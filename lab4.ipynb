{
 "cells": [
  {
   "cell_type": "code",
   "execution_count": 62,
   "metadata": {},
   "outputs": [],
   "source": [
    "with open('./filmy_recenzje/positive.txt', 'r', encoding='utf-8') as file:\n",
    " positive_data = file.readlines()\n",
    "\n",
    "with open('./filmy_recenzje/negative.txt', 'r', encoding='utf-8') as file:\n",
    " negative_data = file.readlines()"
   ]
  },
  {
   "cell_type": "code",
   "execution_count": 63,
   "metadata": {},
   "outputs": [
    {
     "name": "stdout",
     "output_type": "stream",
     "text": [
      "<bound method NDFrame.head of                                                   text  class\n",
      "0    Niesamowity film! Fabuła, aktorstwo, wszystko ...      0\n",
      "1    Wspaniała rozrywka. Nie mogłem oderwać się od ...      0\n",
      "2    Doskonały scenariusz i genialne zakończenie. B...      0\n",
      "3    Pełen humoru i wzruszający. Naprawdę warto obe...      0\n",
      "4    Fantastyczne efekty specjalne. Film robi ogrom...      0\n",
      "..                                                 ...    ...\n",
      "180  Słaby dobór kolorów. Film wygląda jak paleta b...      1\n",
      "181  Efekciarskie ujęcia, które nie służą fabule. C...      1\n",
      "182  Film, który traci swój klimat w drugiej połowi...      1\n",
      "183  Banalna i przewidywalna fabuła. Nie ma momentó...      1\n",
      "184  Kiepsko zrealizowane sceny akcji. Aktorzy wyda...      1\n",
      "\n",
      "[185 rows x 2 columns]>\n"
     ]
    }
   ],
   "source": [
    "import pandas as pd\n",
    "from sklearn.utils import shuffle \n",
    "from sklearn.feature_extraction.text import CountVectorizer\n",
    "df1=pd.DataFrame({'text':positive_data,'class':0})\n",
    "#{'text': pozytywne_recenzje , 'class': 0})\n",
    "df2=pd.DataFrame({'text':negative_data,'class':1})\n",
    "df=pd.concat([df1,df2],ignore_index=True)\n",
    "print(df.head)"
   ]
  },
  {
   "cell_type": "code",
   "execution_count": 64,
   "metadata": {},
   "outputs": [
    {
     "name": "stdout",
     "output_type": "stream",
     "text": [
      "<bound method NDFrame.head of                                                   text  class\n",
      "167  Brak wyrazistego motywu przewodniego. Muzyka n...      1\n",
      "12   Mistrzowskie wykonanie. Każda scena przemyślan...      0\n",
      "36   Kapitalny balans między dramatem a komedią. Fi...      0\n",
      "170  Kiepskie wykorzystanie potencjału aktorskiego....      1\n",
      "143  Niechlujne zakończenie. Brak zadowalającego wy...      1\n",
      "..                                                 ...    ...\n",
      "137  Przesadnie dramatyczne dialogi. Wszystko jest ...      1\n",
      "39   Wyśmienity casting. Aktorzy świetnie oddali ch...      0\n",
      "51   Zaskakujące zwroty akcji. Fabuła trzyma w napi...      0\n",
      "145  Niepotrzebne wstawki komediowe. Próbują być za...      1\n",
      "155   Fabuła, która gubi się w własnych zakamarkach.\\n      1\n",
      "\n",
      "[185 rows x 2 columns]>\n"
     ]
    }
   ],
   "source": [
    "df=shuffle(df)\n",
    "print(df.head)\n",
    "vectorizer=CountVectorizer(token_pattern=r'\\b\\w{3}\\b')\n",
    "x=vectorizer.fit_transform(df['text'])"
   ]
  },
  {
   "cell_type": "code",
   "execution_count": 69,
   "metadata": {},
   "outputs": [
    {
     "name": "stdout",
     "output_type": "stream",
     "text": [
      "     ale  bez  być  był  coś  czy  gra  ich  jak  już  ...  los  nad  nic  \\\n",
      "0      0    0    0    0    0    0    0    0    0    0  ...    0    0    0   \n",
      "1      0    0    0    0    0    0    0    0    0    0  ...    0    0    0   \n",
      "2      0    0    0    0    0    0    0    0    0    0  ...    0    0    0   \n",
      "3      0    0    0    0    0    0    0    0    0    0  ...    0    0    0   \n",
      "4      0    0    0    0    0    0    0    0    0    0  ...    0    0    0   \n",
      "..   ...  ...  ...  ...  ...  ...  ...  ...  ...  ...  ...  ...  ...  ...   \n",
      "180    0    0    0    0    0    0    0    0    0    0  ...    0    0    0   \n",
      "181    0    0    0    0    0    0    0    0    0    0  ...    0    0    0   \n",
      "182    0    0    0    0    0    0    0    0    0    0  ...    0    0    0   \n",
      "183    1    0    1    0    0    0    0    0    0    0  ...    0    0    0   \n",
      "184    0    0    0    0    0    0    0    0    0    0  ...    0    0    0   \n",
      "\n",
      "     nie  nim  niż  ról  się  ten  łez  \n",
      "0      1    0    0    0    0    0    0  \n",
      "1      0    0    0    0    0    0    0  \n",
      "2      0    0    0    0    0    0    0  \n",
      "3      0    0    0    0    0    0    0  \n",
      "4      0    0    0    0    0    0    0  \n",
      "..   ...  ...  ...  ...  ...  ...  ...  \n",
      "180    0    0    0    0    0    0    0  \n",
      "181    0    0    0    0    0    0    0  \n",
      "182    0    0    0    0    0    0    0  \n",
      "183    0    0    0    0    0    0    0  \n",
      "184    0    0    0    0    1    0    0  \n",
      "\n",
      "[185 rows x 21 columns]\n"
     ]
    }
   ],
   "source": [
    "dictionary = vectorizer.get_feature_names_out()\n",
    "bow=pd.DataFrame(x.toarray(), columns=dictionary)\n",
    "print(bow)\n"
   ]
  },
  {
   "cell_type": "code",
   "execution_count": 70,
   "metadata": {},
   "outputs": [
    {
     "ename": "SyntaxError",
     "evalue": "invalid syntax (296036024.py, line 13)",
     "output_type": "error",
     "traceback": [
      "\u001b[1;36m  Cell \u001b[1;32mIn[70], line 13\u001b[1;36m\u001b[0m\n\u001b[1;33m    word_freq_inNegative=bow.[df['class']==1].sum()\u001b[0m\n\u001b[1;37m                             ^\u001b[0m\n\u001b[1;31mSyntaxError\u001b[0m\u001b[1;31m:\u001b[0m invalid syntax\n"
     ]
    }
   ],
   "source": [
    "word_freq=bow.sum(axis=0)\n",
    "\n",
    "print(\"Wszystkie slowa\")\n",
    "word_freq=word_freq.sort_values(ascending=False)\n",
    "print(word_freq.head(20))\n",
    "\n",
    "print(\"slowa w pozytywnym\")\n",
    "word_freq_inPositive=bow[df['class']==0].sum()\n",
    "word_freq_inPositive=word_freq_inPositive.sort_values(ascending=False)\n",
    "print(word_freq_inPositive.head(20))\n",
    "\n",
    "print(\"slowa w negatywnym\")\n",
    "word_freq_inNegative=bow[df['class']==1].sum()\n",
    "word_freq_inNegative=word_freq_inNegative.sort_values(ascending=False)\n",
    "print(word_freq_inNegative.head(20))\n"
   ]
  }
 ],
 "metadata": {
  "kernelspec": {
   "display_name": "Python 3",
   "language": "python",
   "name": "python3"
  },
  "language_info": {
   "codemirror_mode": {
    "name": "ipython",
    "version": 3
   },
   "file_extension": ".py",
   "mimetype": "text/x-python",
   "name": "python",
   "nbconvert_exporter": "python",
   "pygments_lexer": "ipython3",
   "version": "3.11.3"
  },
  "orig_nbformat": 4
 },
 "nbformat": 4,
 "nbformat_minor": 2
}
